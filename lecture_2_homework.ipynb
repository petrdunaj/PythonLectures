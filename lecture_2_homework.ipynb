{
 "cells": [
  {
   "cell_type": "markdown",
   "metadata": {
    "slideshow": {
     "slide_type": "slide"
    }
   },
   "source": [
    "# Homework 2\n",
    "\n",
    "Three categories of exercises:\n",
    "\n",
    "- Required: We will need it in the next session, or super essential Python feature\n",
    "- Recommended: Important practice exercise, or very useful Python feature\n",
    "- Optional: Additional practice exercise, or somewhat obscure Python feature\n"
   ]
  },
  {
   "cell_type": "markdown",
   "metadata": {},
   "source": [
    "### Exercise (strongly recommended):\n",
    "<b style=\"color:red\">Done!</b>\n",
    "\n",
    "In each of the following code snippets, there is a mistake. Find it and fix it!<br>\n",
    "Suggestion: First run the code and look at the error message. Fix it and run it again."
   ]
  },
  {
   "cell_type": "code",
   "execution_count": 1,
   "metadata": {},
   "outputs": [
    {
     "name": "stdout",
     "output_type": "stream",
     "text": [
      "1\n",
      "2\n",
      "4\n",
      "8\n",
      "16\n",
      "32\n",
      "64\n",
      "128\n",
      "256\n",
      "512\n"
     ]
    }
   ],
   "source": [
    "# want to print first 10 powers of 2\n",
    "for i in range(10):\n",
    "    print(2**i)"
   ]
  },
  {
   "cell_type": "code",
   "execution_count": 2,
   "metadata": {},
   "outputs": [
    {
     "name": "stdout",
     "output_type": "stream",
     "text": [
      "They are equal!\n"
     ]
    }
   ],
   "source": [
    "# Want to check if two random integers are equal\n",
    "import numpy as np\n",
    "number = np.random.randint(0, 2)\n",
    "number2 = np.random.randint(0, 2)\n",
    "if number == number2:\n",
    "    print(\"They are equal!\")"
   ]
  },
  {
   "cell_type": "markdown",
   "metadata": {},
   "source": [
    "Note: you can stop an infinite loop from running by clicking Kernel -> Interrupt"
   ]
  },
  {
   "cell_type": "code",
   "execution_count": 3,
   "metadata": {},
   "outputs": [
    {
     "ename": "KeyboardInterrupt",
     "evalue": "",
     "output_type": "error",
     "traceback": [
      "\u001b[1;31m---------------------------------------------------------------------------\u001b[0m",
      "\u001b[1;31mKeyboardInterrupt\u001b[0m                         Traceback (most recent call last)",
      "\u001b[1;32m<ipython-input-3-043d09c153ea>\u001b[0m in \u001b[0;36m<module>\u001b[1;34m\u001b[0m\n\u001b[0;32m      4\u001b[0m \u001b[0msumm\u001b[0m \u001b[1;33m=\u001b[0m \u001b[1;36m0\u001b[0m\u001b[1;33m\u001b[0m\u001b[1;33m\u001b[0m\u001b[0m\n\u001b[0;32m      5\u001b[0m \u001b[1;32mwhile\u001b[0m \u001b[0mi\u001b[0m \u001b[1;33m<=\u001b[0m \u001b[1;36m10\u001b[0m\u001b[1;33m:\u001b[0m\u001b[1;33m\u001b[0m\u001b[1;33m\u001b[0m\u001b[0m\n\u001b[1;32m----> 6\u001b[1;33m     \u001b[0msumm\u001b[0m \u001b[1;33m+=\u001b[0m \u001b[0mi\u001b[0m\u001b[1;33m**\u001b[0m\u001b[1;36m2\u001b[0m\u001b[1;33m\u001b[0m\u001b[1;33m\u001b[0m\u001b[0m\n\u001b[0m\u001b[0;32m      7\u001b[0m \u001b[0mprint\u001b[0m\u001b[1;33m(\u001b[0m\u001b[0msum\u001b[0m\u001b[1;33m)\u001b[0m\u001b[1;33m\u001b[0m\u001b[1;33m\u001b[0m\u001b[0m\n",
      "\u001b[1;31mKeyboardInterrupt\u001b[0m: "
     ]
    }
   ],
   "source": [
    "# want to sum up the 10 squares,\n",
    "# but the loop just runs infinitely.\n",
    "i = 1\n",
    "summ = 0\n",
    "while i <= 10:\n",
    "    summ += i**2\n",
    "print(sum)"
   ]
  },
  {
   "cell_type": "code",
   "execution_count": 4,
   "metadata": {},
   "outputs": [
    {
     "data": {
      "text/plain": [
       "[0.9497417509003708,\n",
       " 0.948317410989946,\n",
       " 0.6740699631871857,\n",
       " 0.3532836439041519,\n",
       " 0.9802998233271146,\n",
       " 0.2723829086731351,\n",
       " 0.8366832326953224,\n",
       " 0.9648136718770879,\n",
       " 0.5155301474045674,\n",
       " 0.021762028346132722]"
      ]
     },
     "execution_count": 4,
     "metadata": {},
     "output_type": "execute_result"
    }
   ],
   "source": [
    "import numpy as np\n",
    "# want to get a list of 10 random numbers\n",
    "[np.random.random() for _ in range(10)]"
   ]
  },
  {
   "cell_type": "code",
   "execution_count": 8,
   "metadata": {},
   "outputs": [
    {
     "name": "stdout",
     "output_type": "stream",
     "text": [
      "You rolled a six!\n"
     ]
    }
   ],
   "source": [
    "# I want to simulate a dice roll,\n",
    "# but somehow I never seem to roll a 6 :(\n",
    "import numpy as np\n",
    "number = np.random.randint(1, 7)\n",
    "if number == 6:\n",
    "    print(\"You rolled a six!\")"
   ]
  },
  {
   "cell_type": "code",
   "execution_count": 9,
   "metadata": {},
   "outputs": [
    {
     "name": "stdout",
     "output_type": "stream",
     "text": [
      "8\n",
      "number is positive\n",
      "number is even\n"
     ]
    }
   ],
   "source": [
    "# for a given number, I want to say\n",
    "# whether it is positive, and whether \n",
    "# it is even.\n",
    "# But for some numbers, like 4, it doesn't\n",
    "# tell me that they are even.\n",
    "import numpy as np\n",
    "number = int(input())\n",
    "if number >= 0:\n",
    "    print(\"number is positive\")\n",
    "if number % 2 == 0:\n",
    "    print(\"number is even\")"
   ]
  },
  {
   "cell_type": "markdown",
   "metadata": {},
   "source": [
    "### Exercise (optional):\n",
    "<b style=\"color:red\">Done!</b>\n",
    "\n",
    "Try the following code that will print numbers `0 1 2`:\n",
    "```python\n",
    "for i in range(3):\n",
    "    print(i, end=\" \")\n",
    "```\n",
    "- Change the code so that it prints the numbers in separate lines;\n",
    "- Instead of only numbers, make it print `day 0`, `day 1`, `day 2`;\n",
    "- Instead of only numbers, make it print `day  0`, `day  1`, `day  2`;\n",
    "- Instead of only numbers, make it print `day_0`, `day_1`, `day_2`;\n",
    "- Instead of only numbers, make it print `day0`, `day1`, `day2`;\n",
    "- Make it print `day0`, `day3`, `day10`, `day4`;\n",
    "- Make it print `day0`, `day1`,..., `day100`.\n",
    "\n",
    "_hints:_ you can create a string from an integer with a function `str()`. Remember how to concatenate (merge) strings."
   ]
  },
  {
   "cell_type": "code",
   "execution_count": 10,
   "metadata": {},
   "outputs": [
    {
     "name": "stdout",
     "output_type": "stream",
     "text": [
      "0\n",
      "1\n",
      "2\n"
     ]
    }
   ],
   "source": [
    "# Answer (can encompas many cells)\n",
    "for i in range(3):\n",
    "    print(i)"
   ]
  },
  {
   "cell_type": "code",
   "execution_count": 11,
   "metadata": {},
   "outputs": [
    {
     "name": "stdout",
     "output_type": "stream",
     "text": [
      "day 0, day 1, day 2, "
     ]
    }
   ],
   "source": [
    "for i in range(3):\n",
    "    print(\"day\", i, end=\", \")\n"
   ]
  },
  {
   "cell_type": "code",
   "execution_count": 12,
   "metadata": {},
   "outputs": [
    {
     "name": "stdout",
     "output_type": "stream",
     "text": [
      "day  0, day  1, day  2, "
     ]
    }
   ],
   "source": [
    "for i in range(3):\n",
    "    print(\"day \", i, end=\", \")"
   ]
  },
  {
   "cell_type": "code",
   "execution_count": 13,
   "metadata": {},
   "outputs": [
    {
     "name": "stdout",
     "output_type": "stream",
     "text": [
      "day_0, day_1, day_2, "
     ]
    }
   ],
   "source": [
    "for i in range(3):\n",
    "    print(\"day_\"+str(i), end=\", \")"
   ]
  },
  {
   "cell_type": "code",
   "execution_count": 14,
   "metadata": {},
   "outputs": [
    {
     "name": "stdout",
     "output_type": "stream",
     "text": [
      "day0, day1, day2, "
     ]
    }
   ],
   "source": [
    "for i in range(3):\n",
    "    print(\"day\"+str(i), end=\", \")"
   ]
  },
  {
   "cell_type": "code",
   "execution_count": 15,
   "metadata": {},
   "outputs": [
    {
     "name": "stdout",
     "output_type": "stream",
     "text": [
      "day0, day3, day6, day9, "
     ]
    }
   ],
   "source": [
    "for i in range(0, 10, 3):\n",
    "    print(\"day\"+str(i), end=\", \")"
   ]
  },
  {
   "cell_type": "code",
   "execution_count": 16,
   "metadata": {},
   "outputs": [
    {
     "name": "stdout",
     "output_type": "stream",
     "text": [
      "day0, day1, day2, day3, day4, day5, day6, day7, day8, day9, day10, day11, day12, day13, day14, day15, day16, day17, day18, day19, day20, day21, day22, day23, day24, day25, day26, day27, day28, day29, day30, day31, day32, day33, day34, day35, day36, day37, day38, day39, day40, day41, day42, day43, day44, day45, day46, day47, day48, day49, day50, day51, day52, day53, day54, day55, day56, day57, day58, day59, day60, day61, day62, day63, day64, day65, day66, day67, day68, day69, day70, day71, day72, day73, day74, day75, day76, day77, day78, day79, day80, day81, day82, day83, day84, day85, day86, day87, day88, day89, day90, day91, day92, day93, day94, day95, day96, day97, day98, day99, day100, "
     ]
    }
   ],
   "source": [
    "for i in range(0, 101):\n",
    "    print(\"day\"+str(i), end=\", \")"
   ]
  },
  {
   "cell_type": "markdown",
   "metadata": {},
   "source": [
    "### Exercise (recommended):\n",
    "<b style=\"color:red\">Done!</b>\n",
    "\n",
    "Given the following lists of integers\n",
    "```python\n",
    "dividend = [102,13,63,90,23,47,82,1000]\n",
    "divisor  = [ 21, 1,61,10,15,28, 2, 100]\n",
    "```\n",
    "write a code that calculates the quotient ($q$) and remainder ($r$) when dividing first (second, third...) element of the dividend by the appropriate element of the divisor. Use the `print` command to display the resulting values.\n",
    "\n",
    "_Hint:_ you will need to use the <a href=\"https://en.wikipedia.org/wiki/Modulo_operation\">modulus</a> operator, `%`, in the `for`-loop. Your code should produce something like this:\n",
    "```python\n",
    "q= 4 r= 18\n",
    "q= 13 r= 0\n",
    "q= 1 r= 2\n",
    "...\n",
    "```"
   ]
  },
  {
   "cell_type": "code",
   "execution_count": 17,
   "metadata": {},
   "outputs": [
    {
     "name": "stdout",
     "output_type": "stream",
     "text": [
      "102 : 21 = 4  r=18\n",
      "13 : 1 = 13  r=0\n",
      "63 : 61 = 1  r=2\n",
      "90 : 10 = 9  r=0\n",
      "23 : 15 = 1  r=8\n",
      "47 : 28 = 1  r=19\n",
      "82 : 2 = 41  r=0\n",
      "1000 : 100 = 10  r=0\n"
     ]
    }
   ],
   "source": [
    "# Answer (can encompas)\n",
    "dividend = [102,13,63,90,23,47,82,1000]\n",
    "divisor  = [ 21, 1,61,10,15,28, 2, 100]\n",
    "for i in range(len(dividend)):\n",
    "    print(dividend[i], \":\", divisor[i], \"=\", int(dividend[i]/divisor[i]), \" r=\"+str(dividend[i]%divisor[i]))"
   ]
  },
  {
   "cell_type": "markdown",
   "metadata": {},
   "source": [
    "### Exercise (recommended):\n",
    "<b style=\"color:red\">Done!</b>\n",
    "\n",
    "Write an interactive code that will ask for an input and\n",
    "- output the number of characters of the input;\n",
    "- output how many distinct words are in the input.\n",
    "\n",
    "_hints:_ length of lists, search the internet for how to split strings."
   ]
  },
  {
   "cell_type": "code",
   "execution_count": 19,
   "metadata": {},
   "outputs": [
    {
     "name": "stdout",
     "output_type": "stream",
     "text": [
      "qwer asdf zxcv\n",
      "14 characters\n",
      "3 distinct words\n"
     ]
    }
   ],
   "source": [
    "# Answer (can encompas many cells)\n",
    "a = input()\n",
    "print(len(a), \"characters\")\n",
    "b = a.split()\n",
    "suma = 0\n",
    "for x in range(len(b)):\n",
    "    z = 0\n",
    "    for y in range(x,len(b)):\n",
    "        if b[x]==b[y]:\n",
    "            z += 1\n",
    "    if z==1:\n",
    "        suma += 1\n",
    "print(suma, \"distinct words\")"
   ]
  },
  {
   "cell_type": "markdown",
   "metadata": {},
   "source": [
    "### Exercise (optional):\n",
    "<b style=\"color:red\">Done!</b>\n",
    "\n",
    "- Create an interactive code that will calculate area of an ellipse. It will require the user to input the length of the major and minor axis (a and b) separately (one after the other), and the program will output the area of such an ellipse.<br>\n",
    "Note: the area of an ellipse is $\\pi\\cdot a \\cdot b$"
   ]
  },
  {
   "cell_type": "code",
   "execution_count": 20,
   "metadata": {},
   "outputs": [
    {
     "name": "stdout",
     "output_type": "stream",
     "text": [
      "Put radius of the major axis\n",
      "7\n",
      "Put radius of the minor axis\n",
      "3\n",
      "Elipse area is: 65.97344572538566\n"
     ]
    }
   ],
   "source": [
    "# Answer (can encompas many cells)\n",
    "import numpy\n",
    "\n",
    "print(\"Put radius of the major axis\")\n",
    "a = input()\n",
    "print(\"Put radius of the minor axis\")\n",
    "b = input()\n",
    "try:\n",
    "    a = int(a)\n",
    "    b = int(b)\n",
    "    print(\"Elipse area is:\", numpy.pi*a*b)\n",
    "except ValueError:\n",
    "    print(\"Input strings not contains only numbers!\", a, b)"
   ]
  },
  {
   "cell_type": "markdown",
   "metadata": {},
   "source": [
    "### Exercise (optional):\n",
    "<b style=\"color:red\">Done!</b>\n",
    "\n",
    "- Create an interactive code that will calculate area of an ellipse. It will require the user to input the length of the major and minor axis (a and b) __at the same time and separated by spaces__, and the program will output the area of such an ellipse.<br>\n",
    "_hint_: split strings"
   ]
  },
  {
   "cell_type": "code",
   "execution_count": 22,
   "metadata": {},
   "outputs": [
    {
     "name": "stdout",
     "output_type": "stream",
     "text": [
      "Put radius of the major and minor axis separated by space\n",
      "7 3\n",
      "Elipse area is: 65.97344572538566\n"
     ]
    },
    {
     "data": {
      "image/png": "[encoded data removed]",
      "text/plain": [
       "<Figure size 432x288 with 1 Axes>"
      ]
     },
     "metadata": {
      "needs_background": "light"
     },
     "output_type": "display_data"
    }
   ],
   "source": [
    "# Answer (can encompas many cells)\n",
    "import numpy\n",
    "import matplotlib.pyplot as plt\n",
    "from matplotlib.patches import Ellipse\n",
    "\n",
    "print(\"Put radius of the major and minor axis separated by space\")\n",
    "txt = input()\n",
    "if len(txt.split())!=2:\n",
    "    print(\"Input string is not two numbers separated by space!\")\n",
    "else:\n",
    "    try:\n",
    "        a = int(txt.split()[0])\n",
    "        b = int(txt.split()[1])\n",
    "        print(\"Elipse area is:\", numpy.pi*a*b)\n",
    "        e = Ellipse(xy=(a, b), width=(a*2), height=(b*2), angle=0)\n",
    "        fig = plt.figure(0)\n",
    "        ax = fig.add_subplot(111, aspect='equal')\n",
    "        ax.add_artist(e)\n",
    "        e.set_clip_box(ax.bbox)\n",
    "        ax.set_xlim(0, a*2)\n",
    "        ax.set_ylim(0, b*2)\n",
    "        plt.show()\n",
    "    except ValueError:\n",
    "        print(\"Input string not contains only numbers!\")"
   ]
  },
  {
   "cell_type": "markdown",
   "metadata": {},
   "source": [
    "### Exercise (recommended):\n",
    "<b style=\"color:red\">Done!</b>\n",
    "\n",
    "- Create an interactive code that will ask for a positive integer, say `n`, and then print `n` random numbers.\n",
    "- Make the whole thing run 5 times. (by wrapping it into a for loop)"
   ]
  },
  {
   "cell_type": "code",
   "execution_count": 23,
   "metadata": {},
   "outputs": [
    {
     "name": "stdout",
     "output_type": "stream",
     "text": [
      "Put positive integer number\n",
      "8\n",
      "Your number is 8\n"
     ]
    },
    {
     "data": {
      "text/plain": [
       "[0.025308602155115656,\n",
       " 0.9627696634026177,\n",
       " 0.09218083134893884,\n",
       " 0.9405046764493088,\n",
       " 0.004624927700459414,\n",
       " 0.6933012657711345,\n",
       " 0.7717342784369761,\n",
       " 0.1491798398662908]"
      ]
     },
     "execution_count": 23,
     "metadata": {},
     "output_type": "execute_result"
    }
   ],
   "source": [
    "# Answer (can encompas many cells)\n",
    "import numpy as np\n",
    "print(\"Put positive integer number\")\n",
    "n = int(input())\n",
    "print(\"Your number is\",n)\n",
    "[np.random.random() for _ in range(n)]"
   ]
  },
  {
   "cell_type": "markdown",
   "metadata": {},
   "source": [
    "\n",
    "### Glossary: `break`\n",
    "If a program encounters the keyword `break` -- it breaks the current loop.\n",
    "\n",
    "### Exercise (required):\n",
    "<b style=\"color:red\">Done!</b>\n",
    "\n",
    "Now you can escape the `while True` loop! <br>\n",
    "Write a `while True` loop which prints random numbers between 0 and 1, and stops once it gets a number greater than 0.9."
   ]
  },
  {
   "cell_type": "code",
   "execution_count": 26,
   "metadata": {},
   "outputs": [
    {
     "name": "stdout",
     "output_type": "stream",
     "text": [
      "0.5323413873163353\n",
      "0.5566838269672697\n",
      "0.728447871913061\n",
      "0.7864383277206216\n",
      "0.7259106640537398\n",
      "0.7086414872975427\n",
      "0.5209414354213447\n",
      "0.2190270722106784\n",
      "0.6521969113007314\n",
      "0.6282949698549748\n",
      "0.5665876863684673\n",
      "0.40494187043251195\n",
      "0.289359859735549\n",
      "0.7189132044825943\n",
      "0.17884897788974463\n",
      "0.914404704513832\n"
     ]
    }
   ],
   "source": [
    "# Answer (can encompas many cells)\n",
    "import numpy as np\n",
    "while True:\n",
    "    a = np.random.random()\n",
    "    print(a)\n",
    "    if a>0.9:\n",
    "        break"
   ]
  },
  {
   "cell_type": "markdown",
   "metadata": {},
   "source": [
    "### Exercise (recommended):\n",
    "<b style=\"color:red\">Done!</b>\n",
    "\n",
    "Find the minimum of the function `x**2 - 4*x + 6` for integer values x between 0 and 10, using:\n",
    "\n",
    "- a `for`-loop\n",
    "- a list comprehension"
   ]
  },
  {
   "cell_type": "code",
   "execution_count": 30,
   "metadata": {},
   "outputs": [
    {
     "name": "stdout",
     "output_type": "stream",
     "text": [
      "[6, 3, 2, 3, 6, 11, 18, 27, 38, 51, 66]\n",
      "Minimum is 2\n"
     ]
    }
   ],
   "source": [
    "# Answer (can encompas many cells)\n",
    "m = []\n",
    "for x in range(11):\n",
    "    m += [x**2 - 4*x + 6]\n",
    "print(m)\n",
    "print(\"Minimum is\", min(m))"
   ]
  },
  {
   "cell_type": "markdown",
   "metadata": {},
   "source": [
    "### Exercise (optional):\n",
    "<b style=\"color:red\">Done!</b>\n",
    "\n",
    "- A multiplication table is a table where each cell contains the product of its row and its column index.\n",
    "- For example 3x3:\n",
    "```\n",
    "1 2 3\n",
    "2 4 6\n",
    "3 6 9\n",
    "```\n",
    "Make a list of lists which is a 10x10 multiplication table using:\n",
    "\n",
    "- `for`-loops\n",
    "- list comprehensions"
   ]
  },
  {
   "cell_type": "code",
   "execution_count": 31,
   "metadata": {},
   "outputs": [
    {
     "name": "stdout",
     "output_type": "stream",
     "text": [
      " 1  2  3  4  5  6  7  8  9 10 \n",
      " 2  4  6  8 10 12 14 16 18 20 \n",
      " 3  6  9 12 15 18 21 24 27 30 \n",
      " 4  8 12 16 20 24 28 32 36 40 \n",
      " 5 10 15 20 25 30 35 40 45 50 \n",
      " 6 12 18 24 30 36 42 48 54 60 \n",
      " 7 14 21 28 35 42 49 56 63 70 \n",
      " 8 16 24 32 40 48 56 64 72 80 \n",
      " 9 18 27 36 45 54 63 72 81 90 \n",
      "10 20 30 40 50 60 70 80 90 100 \n"
     ]
    }
   ],
   "source": [
    "# Answer (can encompas many cells)\n",
    "for x in range(1, 11):\n",
    "    for y in range(1, 11):\n",
    "        z = str(x*y)\n",
    "        if (x*y)<10:\n",
    "            print(\" \"+z, end=\" \")\n",
    "        else:\n",
    "            print(z, end=\" \")\n",
    "    print()"
   ]
  },
  {
   "cell_type": "markdown",
   "metadata": {},
   "source": [
    "### More slicing\n",
    "\n",
    "Given a list, for example `myList = list(range(10))`, you know that you can access slices of the list via slicing notation, for example: `myList[4:7]`.\n",
    "\n",
    "You can also assign to slices, if the size of the slice and the list/slice on the right-hand side have the same length. Try the following:\n",
    "\n",
    "```python\n",
    "myList = list(range(10))\n",
    "print(myList)\n",
    "myList[4:7] = [\"a\", \"b\", \"c\"]\n",
    "print(myList)\n",
    "myList[::3] = [\"hello\"]*4\n",
    "print(myList)\n",
    "```\n",
    "\n",
    "### Exercise (recommended):\n",
    "<b style=\"color:red\">Done!</b>\n",
    "\n",
    "Define a list of 100 elements, all of them strings `\"a\"`. Change every other to `\"b\"`. Now change the last ten elements to `\"z\"`. Merge all elements into a single string with 1) no spaces between letters; 2) single space character between letters; 3) a letter `\"x\"` between them. How many characters does the resulting string contain?<br>\n",
    "_hint_: Use the .join() function you might have learned about in the first homework."
   ]
  },
  {
   "cell_type": "code",
   "execution_count": 32,
   "metadata": {},
   "outputs": [
    {
     "name": "stdout",
     "output_type": "stream",
     "text": [
      "1) 100 characters\n",
      "bababababababababababababababababababababababababababababababababababababababababababababazzzzzzzzzz\n",
      "2) 199 characters\n",
      "b a b a b a b a b a b a b a b a b a b a b a b a b a b a b a b a b a b a b a b a b a b a b a b a b a b a b a b a b a b a b a b a b a b a b a b a b a b a b a b a b a b a b a b a b a z z z z z z z z z z\n",
      "3) 199 characters\n",
      "bxaxbxaxbxaxbxaxbxaxbxaxbxaxbxaxbxaxbxaxbxaxbxaxbxaxbxaxbxaxbxaxbxaxbxaxbxaxbxaxbxaxbxaxbxaxbxaxbxaxbxaxbxaxbxaxbxaxbxaxbxaxbxaxbxaxbxaxbxaxbxaxbxaxbxaxbxaxbxaxbxaxbxaxbxaxbxaxbxaxzxzxzxzxzxzxzxzxzxz\n"
     ]
    }
   ],
   "source": [
    "# Answer (can encompas many cells)\n",
    "myList = [\"a\"]*100\n",
    "myList[::2] = [\"b\"]*50\n",
    "myList[-10:] = [\"z\"]*10\n",
    "a = \"\".join(myList)\n",
    "b = \" \".join(myList)\n",
    "c = \"x\".join(myList)\n",
    "print(\"1)\", len(a), \"characters\")\n",
    "print(a)\n",
    "print(\"2)\", len(b), \"characters\")\n",
    "print(b)\n",
    "print(\"3)\", len(c), \"characters\")\n",
    "print(c)"
   ]
  },
  {
   "cell_type": "markdown",
   "metadata": {},
   "source": [
    "### Exercise (recommended):\n",
    "<b style=\"color:red\">Done!</b>\n",
    "\n",
    "Write an interactive code that will ask for a positive integer, say `n`, and output `n` random\n",
    "- floating-point numbers from 0 to 1;\n",
    "- integers from 0 to 5.\n",
    "- letters among _a_, _b_, _c_, and _d_.<br>_hint:_ How would you access elements of a list `[\"a\", \"b\", \"c\", \"d\"]`? Or of a string `\"abcd\"`?"
   ]
  },
  {
   "cell_type": "code",
   "execution_count": 33,
   "metadata": {},
   "outputs": [
    {
     "name": "stdout",
     "output_type": "stream",
     "text": [
      "7\n",
      "[0.14921584 0.55528464 0.27056144 0.37354289 0.2880244  0.85668854\n",
      " 0.19297028]\n",
      "[1.00255617 4.57034878 1.34167203 3.13657399 1.97097125 4.16950874\n",
      " 1.29751172]\n"
     ]
    },
    {
     "data": {
      "text/plain": [
       "['a', 'b', 'b', 'a', 'b', 'c', 'c']"
      ]
     },
     "execution_count": 33,
     "metadata": {},
     "output_type": "execute_result"
    }
   ],
   "source": [
    "# Answer (can encompas many cells)\n",
    "import numpy as np\n",
    "n = int(input())\n",
    "print(np.random.random(n))\n",
    "print(np.random.random(n)*5)\n",
    "[np.random.choice([\"a\",\"b\",\"c\",\"d\"]) for _ in range(n)]"
   ]
  },
  {
   "cell_type": "markdown",
   "metadata": {},
   "source": [
    "### Exercise (recommended):\n",
    "<b style=\"color:red\">Done!</b>\n",
    "\n",
    "Write an interactive code that will ask for a positive integer, say `n`, and output a random DNA sequence of length `n`.<br>\n",
    "_hint:_ ACGT"
   ]
  },
  {
   "cell_type": "code",
   "execution_count": 35,
   "metadata": {},
   "outputs": [
    {
     "name": "stdout",
     "output_type": "stream",
     "text": [
      "23\n",
      "AACT\n",
      "ACGA\n",
      "CACG\n",
      "CCAG\n",
      "TCAA\n",
      "AATG\n",
      "CACC\n",
      "CCGT\n",
      "GGGT\n",
      "ATAC\n",
      "TCTA\n",
      "CACT\n",
      "TGTG\n",
      "ACGC\n",
      "CCAT\n",
      "ACCT\n",
      "CCAG\n",
      "GAGA\n",
      "ACGC\n",
      "TCCG\n",
      "AGAA\n",
      "CAAG\n",
      "CGAA\n"
     ]
    }
   ],
   "source": [
    "# Answer (can encompas many cells)\n",
    "import numpy as np\n",
    "n = int(input())\n",
    "if n>0:\n",
    "    for _ in range(n):\n",
    "        for _ in range(4):\n",
    "            print(np.random.choice([\"A\",\"C\",\"G\",\"T\"]), end=\"\")\n",
    "        print()"
   ]
  },
  {
   "cell_type": "markdown",
   "metadata": {},
   "source": [
    "### Exercise (optional):\n",
    "<b style=\"color:red\">Done!</b>\n",
    "\n",
    "- Print the first 10 <a href=\"https://en.wikipedia.org/wiki/Fibonacci_number\">Fibonacci numbers</a>.<br>\n",
    "_Hint:_ Start with a list `[1,1]` and then extend from there.\n",
    "\n",
    "- Make it interactive, where the length of the sequence is specified by the user."
   ]
  },
  {
   "cell_type": "code",
   "execution_count": 36,
   "metadata": {},
   "outputs": [
    {
     "name": "stdout",
     "output_type": "stream",
     "text": [
      "18\n",
      "[1, 1, 2, 3, 5, 8, 13, 21, 34, 55, 89, 144, 233, 377, 610, 987, 1597, 2584, 4181, 6765]\n"
     ]
    }
   ],
   "source": [
    "# Answer (can encompas many cells)\n",
    "fibo = [1,1]\n",
    "n = int(input())\n",
    "for _ in range(n):\n",
    "    fibo += [fibo[-2]+fibo[-1]]\n",
    "print(fibo)"
   ]
  },
  {
   "cell_type": "markdown",
   "metadata": {},
   "source": [
    "### Exercise (required):\n",
    "<b style=\"color:red\">Done!</b>\n",
    "\n",
    "> Remark: When a single list is supplied to the plotting function (`plt.plot(yList)`), it assumes those are the \"$y$-values\" for plotting, where the \"$x$-values\" are simply `[0,1...n-1]`. \n",
    "\n",
    "- Plot your favourite function using `plt.plot(yList)`.\n",
    "- The plotting function can accept other, optional, arguments. Check the meaning of the following options:\n",
    "    - `plt.plot(yList, color=\"red\")`\n",
    "    - `plt.plot(yList, lw = 3)`\n",
    "    - `plt.plot(yList, marker = \"o\")`\n",
    "    - `plt.plot(yList, alpha = 0.3)`\n",
    "    - `plt.plot(yList, ls = \"none\")`\n",
    "- Combine several of the options.\n",
    "- Explain `plt.plot(yList, 'g.')`.\n",
    "- Plot a graph with your favourite options and use also an option `label` by setting it to, e.g., `'some line'`. What is the result. Add another line to the same cell with the following code: `plt.legend()`. \n",
    "- Instead of plain `plt.legend()`, try putting `plt.legend(loc=2)`. What other inputs can the optional argument `loc` take?"
   ]
  },
  {
   "cell_type": "code",
   "execution_count": 37,
   "metadata": {},
   "outputs": [
    {
     "name": "stdout",
     "output_type": "stream",
     "text": [
      "[4.73448589 1.88071312 0.14876444 1.07399618 4.07174657 3.09768781\n",
      " 0.53939938 3.95750773 4.88342968 0.4976919 ]\n",
      "[3.18947267 1.48199514 1.48397086 1.18285223 0.6223125  0.66912601\n",
      " 0.42166494 0.66468576 2.98252951 2.79102558]\n",
      "[3.49063891 0.19786739 0.5979868  4.68083187 4.42510386 4.95291856\n",
      " 1.21578872 3.25829372 3.83073129 4.04201308]\n",
      "[2.42920108 2.71345433 2.59323499 0.49521486 3.8990561  4.25763639\n",
      " 1.74067446 1.0382123  1.72508825 2.34321699]\n"
     ]
    },
    {
     "data": {
      "text/plain": [
       "<matplotlib.legend.Legend at 0x1d125330c50>"
      ]
     },
     "execution_count": 37,
     "metadata": {},
     "output_type": "execute_result"
    },
    {
     "data": {
      "image/png": "[encoded data removed]",
      "text/plain": [
       "<Figure size 432x288 with 1 Axes>"
      ]
     },
     "metadata": {
      "needs_background": "light"
     },
     "output_type": "display_data"
    }
   ],
   "source": [
    "# Answer (can encompas many cells)\n",
    "import numpy as np\n",
    "import matplotlib.pyplot as plt\n",
    "yList = np.random.random(10)*5\n",
    "print(yList)\n",
    "plt.plot(yList)\n",
    "yList = np.random.random(10)*5\n",
    "print(yList)\n",
    "plt.plot(yList, color=\"red\", lw = 3, marker = \"x\", alpha = 0.2, label = \"main\")\n",
    "yList = np.random.random(10)*5\n",
    "print(yList)\n",
    "plt.plot(yList, 'g.') # just coordinates\n",
    "yList = np.random.random(10)*5\n",
    "print(yList)\n",
    "plt.plot(yList, ls = \"none\")\n",
    "plt.legend(loc=4) # legend location in graph"
   ]
  },
  {
   "cell_type": "markdown",
   "metadata": {},
   "source": [
    "### Exercise (optional):\n",
    "<b style=\"color:red\">Done!</b>\n",
    "\n",
    "- Write code that keeps adding random numbers between 0 and 1 together until they sum up to at least 5.\n",
    "- Count the number of numbers you needed to sum up to reach at least 5. \n",
    "- Make the whole thing run 50 times and store the results in a list.\n",
    "\n",
    "- Now do the same, but instead of taking numbers until they add up to 5, take numbers until you find one that is bigger than 0.9. Store these results in a list as well.\n",
    "- Plot both lists. Both graphs should have similar means, but one should have a much higher variance."
   ]
  },
  {
   "cell_type": "code",
   "execution_count": 45,
   "metadata": {},
   "outputs": [
    {
     "name": "stdout",
     "output_type": "stream",
     "text": [
      "5.088434151417447 10\n",
      "[5.027271341198226, 5.013769013673564, 5.091393826924398, 5.265064387094031, 5.024573163152171, 5.382340289221067, 5.821375718371603, 5.401083275543366, 5.401208216851881, 5.1885274226494476, 5.1234095316907196, 5.98065483092743, 5.798775858196259, 5.517127144114022, 5.671405581184771, 5.080903214476039, 5.2142101445051665, 5.148282736597296, 5.809589947702406, 5.284981742478531, 5.3331292022199746, 5.351748684009335, 5.255190989891272, 5.850650107349258, 5.427233725143022, 5.331019923327701, 5.191578893029327, 5.395271361544177, 5.464735971635773, 5.5120415233865785, 5.300906313529675, 5.062682974828822, 5.490102747356955, 5.321625456201269, 5.44374613822916, 5.307150448824479, 5.077054840456389, 5.384164609705871, 5.242633064310317, 5.198069462647507, 5.2582827641024235, 5.513128304250076, 5.837449442747817, 5.102468424022456, 5.232600229472437, 5.551825208704483, 5.033153230108278, 5.892934015922403, 5.1371740910967585, 5.078568033529871]\n",
      "[11, 9, 12, 13, 10, 10, 12, 9, 10, 14, 9, 13, 11, 11, 15, 11, 11, 10, 11, 12, 12, 11, 12, 12, 11, 9, 10, 11, 11, 10, 14, 12, 11, 13, 10, 12, 11, 10, 12, 9, 9, 12, 11, 11, 8, 10, 10, 11, 13, 10]\n",
      "[0.9394301409814526, 0.9978537695379877, 0.9417523469342505, 0.9056837379442738, 0.9109338012419549, 0.9175322585356828, 0.9953629439017939, 0.9760667133439387, 0.9651732968038321, 0.9657693129810775, 0.975537477295749, 0.9126947013871185, 0.9063788223914272, 0.9695763949991899, 0.933265907031544, 0.9040255237930478, 0.9816063448927302, 0.9528931866684843, 0.9827171539609073, 0.9253663061842191, 0.9708284235965025, 0.9154303192978042, 0.9944083827298462, 0.910495329205107, 0.9680114092741856, 0.91057220246272, 0.9488578118399829, 0.9505945313929568, 0.9178133959202307, 0.969491530655906, 0.9761529514314002, 0.98187494332914, 0.9396377306679268, 0.9215458477400396, 0.9752499391138104, 0.9746761684005522, 0.9222138090966336, 0.9024339187159418, 0.9953901662202116, 0.984705415861447, 0.9317103484545396, 0.913094513549238, 0.9994092746682975, 0.9902746199821568, 0.9333942903168939, 0.9273264250199051, 0.9964853006751752, 0.9819847375075286, 0.9482592531615635, 0.973637565174827]\n",
      "[5, 3, 12, 5, 6, 2, 4, 2, 13, 19, 4, 30, 4, 5, 6, 4, 5, 1, 3, 28, 18, 1, 8, 1, 6, 20, 1, 5, 16, 31, 31, 7, 10, 11, 28, 4, 5, 7, 27, 4, 14, 16, 18, 11, 8, 10, 23, 11, 18, 6]\n"
     ]
    },
    {
     "data": {
      "text/plain": [
       "[<matplotlib.lines.Line2D at 0x1d124fbaeb8>]"
      ]
     },
     "execution_count": 45,
     "metadata": {},
     "output_type": "execute_result"
    },
    {
     "data": {
      "image/png": "[encoded data removed]",
      "text/plain": [
       "<Figure size 432x288 with 1 Axes>"
      ]
     },
     "metadata": {
      "needs_background": "light"
     },
     "output_type": "display_data"
    }
   ],
   "source": [
    "# Answer (can encompas many cells)\n",
    "import matplotlib.pyplot as plt\n",
    "import numpy as np\n",
    "\n",
    "count = 0\n",
    "suma = 0\n",
    "\n",
    "while suma < 5:\n",
    "    suma += np.random.random()\n",
    "    count += 1\n",
    "print(suma, count)\n",
    "\n",
    "iList = [0]*50\n",
    "jList = [0]*50\n",
    "for i in range(50):\n",
    "    while iList[i] < 5:\n",
    "        iList[i] += np.random.random()\n",
    "        jList[i] += 1\n",
    "print(iList)\n",
    "print(jList)\n",
    "plt.plot(jList, color=\"red\")\n",
    "\n",
    "iList = [0]*50\n",
    "jList = [0]*50\n",
    "for i in range(50):\n",
    "    while iList[i] < 0.9:\n",
    "        iList[i] = np.random.random()\n",
    "        jList[i] += 1\n",
    "print(iList)\n",
    "print(jList)\n",
    "plt.plot(jList, color=\"blue\")"
   ]
  },
  {
   "cell_type": "markdown",
   "metadata": {},
   "source": [
    "### Exercise (optional):\n",
    "<b style=\"color:red\">Done!</b>\n",
    "\n",
    "- Run many random walks (say >200) of 100 steps and plot them all on a single graph with thin and almost transparent lines of the same color."
   ]
  },
  {
   "cell_type": "code",
   "execution_count": 68,
   "metadata": {},
   "outputs": [
    {
     "data": {
      "text/plain": [
       "[<matplotlib.lines.Line2D at 0x1d128f4d048>,\n",
       " <matplotlib.lines.Line2D at 0x1d128f4d1d0>,\n",
       " <matplotlib.lines.Line2D at 0x1d128f4d320>,\n",
       " <matplotlib.lines.Line2D at 0x1d128f4d470>,\n",
       " <matplotlib.lines.Line2D at 0x1d128f4d5c0>,\n",
       " <matplotlib.lines.Line2D at 0x1d128f4d710>,\n",
       " <matplotlib.lines.Line2D at 0x1d128f4d860>,\n",
       " <matplotlib.lines.Line2D at 0x1d128f4d9b0>,\n",
       " <matplotlib.lines.Line2D at 0x1d128f4db00>,\n",
       " <matplotlib.lines.Line2D at 0x1d128f4dc50>,\n",
       " <matplotlib.lines.Line2D at 0x1d128f4dda0>,\n",
       " <matplotlib.lines.Line2D at 0x1d128f4def0>,\n",
       " <matplotlib.lines.Line2D at 0x1d128f54080>,\n",
       " <matplotlib.lines.Line2D at 0x1d128f541d0>,\n",
       " <matplotlib.lines.Line2D at 0x1d128f54320>,\n",
       " <matplotlib.lines.Line2D at 0x1d128f54470>,\n",
       " <matplotlib.lines.Line2D at 0x1d128f545c0>,\n",
       " <matplotlib.lines.Line2D at 0x1d128f54710>,\n",
       " <matplotlib.lines.Line2D at 0x1d128f54860>,\n",
       " <matplotlib.lines.Line2D at 0x1d128f549b0>,\n",
       " <matplotlib.lines.Line2D at 0x1d128f54b00>,\n",
       " <matplotlib.lines.Line2D at 0x1d128f54c50>,\n",
       " <matplotlib.lines.Line2D at 0x1d128f54da0>,\n",
       " <matplotlib.lines.Line2D at 0x1d128f54ef0>,\n",
       " <matplotlib.lines.Line2D at 0x1d128f59080>,\n",
       " <matplotlib.lines.Line2D at 0x1d128f591d0>,\n",
       " <matplotlib.lines.Line2D at 0x1d128f59320>,\n",
       " <matplotlib.lines.Line2D at 0x1d128f59470>,\n",
       " <matplotlib.lines.Line2D at 0x1d128f595c0>,\n",
       " <matplotlib.lines.Line2D at 0x1d128f59710>,\n",
       " <matplotlib.lines.Line2D at 0x1d128f59860>,\n",
       " <matplotlib.lines.Line2D at 0x1d128f599b0>,\n",
       " <matplotlib.lines.Line2D at 0x1d128f59b00>,\n",
       " <matplotlib.lines.Line2D at 0x1d128f59c50>,\n",
       " <matplotlib.lines.Line2D at 0x1d128f59da0>,\n",
       " <matplotlib.lines.Line2D at 0x1d128f59ef0>,\n",
       " <matplotlib.lines.Line2D at 0x1d128f5d080>,\n",
       " <matplotlib.lines.Line2D at 0x1d128f5d1d0>,\n",
       " <matplotlib.lines.Line2D at 0x1d128f5d320>,\n",
       " <matplotlib.lines.Line2D at 0x1d128f5d470>,\n",
       " <matplotlib.lines.Line2D at 0x1d128f5d5c0>,\n",
       " <matplotlib.lines.Line2D at 0x1d128f5d710>,\n",
       " <matplotlib.lines.Line2D at 0x1d128f5d860>,\n",
       " <matplotlib.lines.Line2D at 0x1d128f5d9b0>,\n",
       " <matplotlib.lines.Line2D at 0x1d128f5db00>,\n",
       " <matplotlib.lines.Line2D at 0x1d128f5dc50>,\n",
       " <matplotlib.lines.Line2D at 0x1d128f5dda0>,\n",
       " <matplotlib.lines.Line2D at 0x1d128f5def0>,\n",
       " <matplotlib.lines.Line2D at 0x1d128f63080>,\n",
       " <matplotlib.lines.Line2D at 0x1d128f631d0>,\n",
       " <matplotlib.lines.Line2D at 0x1d128f63320>,\n",
       " <matplotlib.lines.Line2D at 0x1d128f63470>,\n",
       " <matplotlib.lines.Line2D at 0x1d128f635c0>,\n",
       " <matplotlib.lines.Line2D at 0x1d128f63710>,\n",
       " <matplotlib.lines.Line2D at 0x1d128f63860>,\n",
       " <matplotlib.lines.Line2D at 0x1d128f639b0>,\n",
       " <matplotlib.lines.Line2D at 0x1d128f63b00>,\n",
       " <matplotlib.lines.Line2D at 0x1d128f63c50>,\n",
       " <matplotlib.lines.Line2D at 0x1d128f63da0>,\n",
       " <matplotlib.lines.Line2D at 0x1d128f63ef0>,\n",
       " <matplotlib.lines.Line2D at 0x1d128f68080>,\n",
       " <matplotlib.lines.Line2D at 0x1d128f681d0>,\n",
       " <matplotlib.lines.Line2D at 0x1d128f68320>,\n",
       " <matplotlib.lines.Line2D at 0x1d128f68470>,\n",
       " <matplotlib.lines.Line2D at 0x1d128f685c0>,\n",
       " <matplotlib.lines.Line2D at 0x1d128f68710>,\n",
       " <matplotlib.lines.Line2D at 0x1d128f68860>,\n",
       " <matplotlib.lines.Line2D at 0x1d128f689b0>,\n",
       " <matplotlib.lines.Line2D at 0x1d128f68b00>,\n",
       " <matplotlib.lines.Line2D at 0x1d128f68c50>,\n",
       " <matplotlib.lines.Line2D at 0x1d128f68da0>,\n",
       " <matplotlib.lines.Line2D at 0x1d128f68ef0>,\n",
       " <matplotlib.lines.Line2D at 0x1d128f6e080>,\n",
       " <matplotlib.lines.Line2D at 0x1d128f6e1d0>,\n",
       " <matplotlib.lines.Line2D at 0x1d128f6e320>,\n",
       " <matplotlib.lines.Line2D at 0x1d128f6e470>,\n",
       " <matplotlib.lines.Line2D at 0x1d128f6e5c0>,\n",
       " <matplotlib.lines.Line2D at 0x1d128f6e710>,\n",
       " <matplotlib.lines.Line2D at 0x1d128f6e860>,\n",
       " <matplotlib.lines.Line2D at 0x1d128f6e9b0>,\n",
       " <matplotlib.lines.Line2D at 0x1d128f6eb00>,\n",
       " <matplotlib.lines.Line2D at 0x1d128f6ec50>,\n",
       " <matplotlib.lines.Line2D at 0x1d128f6eda0>,\n",
       " <matplotlib.lines.Line2D at 0x1d128f6eef0>,\n",
       " <matplotlib.lines.Line2D at 0x1d126748d68>,\n",
       " <matplotlib.lines.Line2D at 0x1d128f731d0>,\n",
       " <matplotlib.lines.Line2D at 0x1d128f73320>,\n",
       " <matplotlib.lines.Line2D at 0x1d128f73470>,\n",
       " <matplotlib.lines.Line2D at 0x1d128f735c0>,\n",
       " <matplotlib.lines.Line2D at 0x1d128f73710>,\n",
       " <matplotlib.lines.Line2D at 0x1d128f73860>,\n",
       " <matplotlib.lines.Line2D at 0x1d128f739b0>,\n",
       " <matplotlib.lines.Line2D at 0x1d128f73b00>,\n",
       " <matplotlib.lines.Line2D at 0x1d128f73c50>,\n",
       " <matplotlib.lines.Line2D at 0x1d128f73da0>,\n",
       " <matplotlib.lines.Line2D at 0x1d128f73ef0>,\n",
       " <matplotlib.lines.Line2D at 0x1d128f78080>,\n",
       " <matplotlib.lines.Line2D at 0x1d128f781d0>,\n",
       " <matplotlib.lines.Line2D at 0x1d128f78320>,\n",
       " <matplotlib.lines.Line2D at 0x1d128f78470>]"
      ]
     },
     "execution_count": 68,
     "metadata": {},
     "output_type": "execute_result"
    },
    {
     "data": {
      "image/png": "[encoded data removed]",
      "text/plain": [
       "<Figure size 432x288 with 1 Axes>"
      ]
     },
     "metadata": {
      "needs_background": "light"
     },
     "output_type": "display_data"
    }
   ],
   "source": [
    "# Answer (can encompas many cells)\n",
    "import numpy as np\n",
    "import matplotlib.pyplot as plt\n",
    "yList = []\n",
    "for i in range(200):\n",
    "    yList += [list(np.random.random(100))]\n",
    "plt.plot(yList, color=\"red\", alpha = 0.01)\n"
   ]
  }
 ],
 "metadata": {
  "kernelspec": {
   "display_name": "Python 3",
   "language": "python",
   "name": "python3"
  },
  "language_info": {
   "codemirror_mode": {
    "name": "ipython",
    "version": 3
   },
   "file_extension": ".py",
   "mimetype": "text/x-python",
   "name": "python",
   "nbconvert_exporter": "python",
   "pygments_lexer": "ipython3",
   "version": "3.7.1"
  }
 },
 "nbformat": 4,
 "nbformat_minor": 1
}
