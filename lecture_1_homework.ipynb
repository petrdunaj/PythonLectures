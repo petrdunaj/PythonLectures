{
 "cells": [
  {
   "cell_type": "markdown",
   "metadata": {
    "slideshow": {
     "slide_type": "slide"
    }
   },
   "source": [
    "# Homework 1\n",
    "\n",
    "Three categories of exercises:\n",
    "\n",
    "- Required: We will need it in the next session, or super essential Python feature\n",
    "- Recommended: Important practice exercise, or very useful Python feature\n",
    "- Optional: Additional practice exercise, or somewhat obscure Python feature\n"
   ]
  },
  {
   "cell_type": "markdown",
   "metadata": {
    "slideshow": {
     "slide_type": "fragment"
    }
   },
   "source": [
    "### Exercise (strongly recommended):\n",
    "<b style=\"color:red\">Done!</b>\n",
    "\n",
    "In each of the following code snippets, there is a mistake. Find it and fix it!<br>\n",
    "Suggestion: First run the code and look at the error message. Fix it and run it again."
   ]
  },
  {
   "cell_type": "code",
   "execution_count": 1,
   "metadata": {},
   "outputs": [
    {
     "name": "stdout",
     "output_type": "stream",
     "text": [
      "7.5\n"
     ]
    }
   ],
   "source": [
    "# want to compute the area of a triangle. \n",
    "# Formula is half the product of base and height\n",
    "base = 5\n",
    "height = 3\n",
    "area = 0.5*base*height\n",
    "print(area)"
   ]
  },
  {
   "cell_type": "code",
   "execution_count": 2,
   "metadata": {},
   "outputs": [
    {
     "name": "stdout",
     "output_type": "stream",
     "text": [
      "24\n"
     ]
    }
   ],
   "source": [
    "# want to compute the perimeter of a rectangle, which is twice the sum of width and length\n",
    "# I don't get an error, but the answer is wrong. It should be 24\n",
    "width = 5\n",
    "length = 7\n",
    "perimeter = 2*(width+length)\n",
    "print(perimeter)"
   ]
  },
  {
   "cell_type": "code",
   "execution_count": 3,
   "metadata": {},
   "outputs": [
    {
     "name": "stdout",
     "output_type": "stream",
     "text": [
      "84.9056\n"
     ]
    }
   ],
   "source": [
    "# want to compute the area of a circle, which is 3.14 times radius squared\n",
    "radius = 5.2\n",
    "area = 3.14*radius**2\n",
    "print(area)"
   ]
  },
  {
   "cell_type": "code",
   "execution_count": 4,
   "metadata": {},
   "outputs": [
    {
     "name": "stdout",
     "output_type": "stream",
     "text": [
      "35\n"
     ]
    }
   ],
   "source": [
    "# want to compute the area of a rectangle, which is width times length\n",
    "width = 5\n",
    "length = 7\n",
    "area = width*length\n",
    "print(area)"
   ]
  },
  {
   "cell_type": "code",
   "execution_count": 5,
   "metadata": {},
   "outputs": [
    {
     "name": "stdout",
     "output_type": "stream",
     "text": [
      "hello world\n"
     ]
    }
   ],
   "source": [
    "# want to print out hello world\n",
    "print(\"hello world\")"
   ]
  },
  {
   "cell_type": "code",
   "execution_count": 6,
   "metadata": {},
   "outputs": [
    {
     "name": "stdout",
     "output_type": "stream",
     "text": [
      "[1, 2, 3, 4, 5]\n"
     ]
    }
   ],
   "source": [
    "# want to add a number to the end of my list\n",
    "myList = [1,2,3,4]\n",
    "myList = myList + [5]\n",
    "print(myList)"
   ]
  },
  {
   "cell_type": "code",
   "execution_count": 7,
   "metadata": {},
   "outputs": [
    {
     "name": "stdout",
     "output_type": "stream",
     "text": [
      "[1, 2, 3, 444]\n"
     ]
    }
   ],
   "source": [
    "# want to change the fourth number to 444\n",
    "myList = [1,2,3,4]\n",
    "myList[3] = 444\n",
    "print(myList)"
   ]
  },
  {
   "cell_type": "code",
   "execution_count": 8,
   "metadata": {},
   "outputs": [
    {
     "name": "stdout",
     "output_type": "stream",
     "text": [
      "[1, 2, 3, 4, 5, 6, 7, 8]\n"
     ]
    }
   ],
   "source": [
    "# want fuse two lists together\n",
    "myFirstList = [1,2,3,4]\n",
    "mySecondList = [5,6,7,8]\n",
    "newList = myFirstList + mySecondList\n",
    "#newList = list(myFirstList) + list(mySecondList)\n",
    "print(newList)"
   ]
  },
  {
   "cell_type": "code",
   "execution_count": 9,
   "metadata": {},
   "outputs": [
    {
     "name": "stdout",
     "output_type": "stream",
     "text": [
      "hellohellohellohellohello\n"
     ]
    }
   ],
   "source": [
    "# want to repeat a word 5 times\n",
    "word = 'hello'\n",
    "print(word*5)"
   ]
  },
  {
   "cell_type": "markdown",
   "metadata": {},
   "source": [
    "### Exercise (optional):\n",
    "<b style=\"color:red\">Done!</b>\n",
    "\n",
    "What does the modulus operator `%` do?\n",
    "\n",
    "Given the following code determine what the value of the variable named `c`.\n",
    "```python\n",
    "a = 7\n",
    "b = 3\n",
    "c = a%b\n",
    "```\n",
    "\n",
    "What is the _quotient_ of `a` and `b` and how would you code it?"
   ]
  },
  {
   "cell_type": "code",
   "execution_count": 10,
   "metadata": {},
   "outputs": [
    {
     "name": "stdout",
     "output_type": "stream",
     "text": [
      "1 - print modulo\n"
     ]
    }
   ],
   "source": [
    "# Answer (can encompass many cells)\n",
    "a = 7\n",
    "b = 3\n",
    "c = a%b\n",
    "print(c, \"- print modulo\")"
   ]
  },
  {
   "cell_type": "markdown",
   "metadata": {},
   "source": [
    "### Exercise (optional):\n",
    "<b style=\"color:red\">Done!</b>\n",
    "\n",
    "What is the division rule (for `//`) with respect to rounding when the two numbers are:\n",
    "- positive / positive\n",
    "- positive / negative\n",
    "- negative / negative\n",
    "- negative / positive\n",
    "\n",
    "Example for positive/positive: `5//2` gives 2, so in this case `//` is rounding the result down.\n",
    "\n",
    "Can you infer a general rule?"
   ]
  },
  {
   "cell_type": "code",
   "execution_count": 11,
   "metadata": {},
   "outputs": [],
   "source": [
    "# Answer (can encompass many cells)\n",
    "# division '//' gives us integer result"
   ]
  },
  {
   "cell_type": "markdown",
   "metadata": {},
   "source": [
    "### Exercise (optional):\n",
    "<b style=\"color:red\">Done!</b>\n",
    "\n",
    "We saw that addition of two `int`s gives an `int`, but if a `float` is involved the result will be a `float`. We also saw that for `/` division we always get a `float` as result, no matter if the input are `int`s or `float`s.\n",
    "\n",
    "Consider simple exponentiation operator `a**x`. What is the resulting type when \n",
    "- `a` is integer and `x` is integer\n",
    "- `a` is integer and `x` is float\n",
    "- `a` is float and `x` is integer\n",
    "- `a` is float and `x` is float\n",
    "        \n",
    "Can you think of a general rule?\n",
    "\n",
    "What about the `*` (multiplication) and `//` (division) operator?"
   ]
  },
  {
   "cell_type": "code",
   "execution_count": 12,
   "metadata": {},
   "outputs": [
    {
     "name": "stdout",
     "output_type": "stream",
     "text": [
      "<class 'int'> <class 'float'> <class 'float'> <class 'float'>\n",
      "<class 'float'> <class 'float'> <class 'float'> <class 'float'>\n",
      "<class 'int'> <class 'float'> <class 'float'> <class 'float'>\n",
      "<class 'int'> <class 'float'> <class 'float'> <class 'float'>\n",
      "<class 'int'> <class 'float'> <class 'float'> <class 'float'>\n"
     ]
    }
   ],
   "source": [
    "# Answer (can encompass many cells)\n",
    "print(type(1*1),type(1*1.0),type(1.0*1),type(1.0*1.0)) # depends on input\n",
    "print(type(1/1),type(1/1.0),type(1.0/1),type(1.0/1.0)) # float\n",
    "print(type(1//1),type(2//1.0),type(2.0//1),type(2.0//1.0)) # depends on input\n",
    "print(type(1%1),type(2%1.0),type(2.0%1),type(2.0%1.0)) # depends on input\n",
    "print(type(2**2),type(2**2.0),type(2.0**2),type(2.0**2.0)) # depends on input\n"
   ]
  },
  {
   "cell_type": "markdown",
   "metadata": {},
   "source": [
    "### Exercise (required):\n",
    "<b style=\"color:red\">Done!</b>\n",
    "\n",
    "Define a float variable `myFavInt`. We can use notation \n",
    "```python\n",
    "myFavInt = myFavInt + 1\n",
    "```\n",
    "to increment the value of the variable by one.\n",
    "\n",
    "There is a shorthand version for incementation\n",
    "```python\n",
    "myFavInt += 1\n",
    "```\n",
    "Check it out. Try incrementing by some other number. Try substituting the plus with a minus sign in the expression. What is the result? Try also multiplication and division. Is the expression sensitive to a spacing, and if so, where?"
   ]
  },
  {
   "cell_type": "code",
   "execution_count": 13,
   "metadata": {},
   "outputs": [
    {
     "data": {
      "text/plain": [
       "4.0"
      ]
     },
     "execution_count": 13,
     "metadata": {},
     "output_type": "execute_result"
    }
   ],
   "source": [
    "# Answer (can encompass many cells)\n",
    "myFavInt = 9\n",
    "myFavInt -= 1\n",
    "myFavInt /= 2\n",
    "myFavInt"
   ]
  },
  {
   "cell_type": "markdown",
   "metadata": {},
   "source": [
    "### Exercise (required):\n",
    "<b style=\"color:red\">Done!</b>\n",
    "\n",
    "Try the `+=` and `*=` operator on lists and strings."
   ]
  },
  {
   "cell_type": "code",
   "execution_count": 14,
   "metadata": {},
   "outputs": [
    {
     "name": "stdout",
     "output_type": "stream",
     "text": [
      "[1, 2, 3, 4, 5, 6] [4, 5, 6, 4, 5, 6] abcabcabc\n"
     ]
    }
   ],
   "source": [
    "# Answer (can encompass many cells)\n",
    "myList1 = [1,2,3]\n",
    "myList2 = [4,5,6]\n",
    "myString = 'abc'\n",
    "myList1 += myList2\n",
    "myList2 *= 2\n",
    "myString *= 3\n",
    "print(myList1,myList2,myString)"
   ]
  },
  {
   "cell_type": "markdown",
   "metadata": {},
   "source": [
    "### Exercise (optional):\n",
    "<b style=\"color:red\">Done!</b>\n",
    "\n",
    "There is a very subtle difference of the `+=` operator between mutable and immutable types.<br>\n",
    "Define a list called `list1` and then make a copy via `list2 = list1`. Now use `+=` to make one of the lists longer. Does it affect the other one? What if we use strings instead of lists?"
   ]
  },
  {
   "cell_type": "code",
   "execution_count": 15,
   "metadata": {},
   "outputs": [
    {
     "name": "stdout",
     "output_type": "stream",
     "text": [
      "[11, 12, 13, 11, 12, 13] [11, 12, 13, 11, 12, 13]\n",
      "stringstring string\n"
     ]
    }
   ],
   "source": [
    "# Answer (can encompass many cells)\n",
    "myList1 = [11,12,13]\n",
    "myList2 = myList1 # myList2 = list(myList1)\n",
    "myList2 += myList1\n",
    "print(myList2,myList1)\n",
    "str1 = \"string\"\n",
    "str2 = str1\n",
    "str2 += str1\n",
    "print(str2,str1)"
   ]
  },
  {
   "cell_type": "markdown",
   "metadata": {},
   "source": [
    "### Exercise (optional):\n",
    "<b style=\"color:red\">Done!</b>\n",
    "\n",
    "When converting a floating point number to an integer using `int()`, the number is rounded.<br>\n",
    "Check how it is rounded (up or down) for \n",
    "\n",
    "- positive\n",
    "- negative\n",
    "\n",
    "numbers."
   ]
  },
  {
   "cell_type": "code",
   "execution_count": 16,
   "metadata": {},
   "outputs": [
    {
     "name": "stdout",
     "output_type": "stream",
     "text": [
      "1 1 -1 -1\n"
     ]
    }
   ],
   "source": [
    "# Answer (can encompass many cells)\n",
    "print(int(1.4),int(1.6),int(-1.4),int(-1.6)) #rounding to zero"
   ]
  },
  {
   "cell_type": "markdown",
   "metadata": {},
   "source": [
    "### Exercise (recommended):\n",
    "<b style=\"color:red\">Done!</b>\n",
    "\n",
    "Define a string with a value `\"-3.14\"`. Make sure it is a string.<br>\n",
    "Check the result of converting it via `int()` and `float()`.<br>\n",
    "In general, when is it possible to convert a string into an integer or floating point number?"
   ]
  },
  {
   "cell_type": "code",
   "execution_count": 17,
   "metadata": {},
   "outputs": [
    {
     "name": "stdout",
     "output_type": "stream",
     "text": [
      "-3.14 -3\n"
     ]
    }
   ],
   "source": [
    "# Answer (can encompass many cells)\n",
    "print(float(\"-3.14\"),int(float(\"-3.14\")))  ### simple int(\"-3.14\") will fail"
   ]
  },
  {
   "cell_type": "markdown",
   "metadata": {},
   "source": [
    "### Exercise (required):\n",
    "<b style=\"color:red\">Done!</b>\n",
    "\n",
    "**Tuple** is another python datatype. It is like a list, except that it is immutable. You can define a tuple via\n",
    "```python\n",
    "pair = (5, 'hi')\n",
    "```\n",
    "or even\n",
    "```python\n",
    "pair = 5, 'hi'\n",
    "```\n",
    "Make a bigger tuple and try the list operations that you know on it, such as:\n",
    "\n",
    "- element access with `[]`\n",
    "- `+` and `*`\n",
    "- slicing\n",
    "- `len`\n",
    "\n",
    "Try converting a tuple into a list and vice versa."
   ]
  },
  {
   "cell_type": "code",
   "execution_count": 18,
   "metadata": {},
   "outputs": [
    {
     "name": "stdout",
     "output_type": "stream",
     "text": [
      "(5, 'hi', 1.5, True) 4 (5, 'hi', 1.5, True, 5, 'hi', 1.5, True) (5, 'hi', 1.5, True, 5, 'hi', 1.5, True, 5, 'hi', 1.5, True)\n"
     ]
    }
   ],
   "source": [
    "# Answer (can encompass many cells)\n",
    "x = 5, 'hi', 1.5, True\n",
    "#x[1] = 'hey'\n",
    "print(x, len(x), x+x, x*3)"
   ]
  },
  {
   "cell_type": "markdown",
   "metadata": {},
   "source": [
    "### Exercise (recommended):\n",
    "<b style=\"color:red\">Done!</b>\n",
    "\n",
    "Write a small code that will ask user to input a number and then output the square of that number. \n",
    "\n",
    "If this works, try making it more verbose ( = to print some \"conversation\" lines)."
   ]
  },
  {
   "cell_type": "code",
   "execution_count": 19,
   "metadata": {},
   "outputs": [
    {
     "name": "stdout",
     "output_type": "stream",
     "text": [
      "Hi, what's your name?\n",
      "qewr\n",
      "Nice to meet you qewr how are you today?\n",
      "asdf\n",
      "Good to hear, Godbye!\n"
     ]
    }
   ],
   "source": [
    "# Answer (can encompass many cells)\n",
    "#print('square is',int(input())**2)\n",
    "\n",
    "print(\"Hi, what's your name?\")\n",
    "n = input()\n",
    "print(\"Nice to meet you\",n,\"how are you today?\")\n",
    "n = input()\n",
    "print(\"Good to hear, Godbye!\")"
   ]
  },
  {
   "cell_type": "markdown",
   "metadata": {},
   "source": [
    "### Exercise (recommended):\n",
    "<b style=\"color:red\">Done!</b>\n",
    "\n",
    "Remember that strings are immutable and thus we cannot change them.<br>\n",
    "To get around this, try converting a string into a list of characters. Now Change a character. Now try converting it back using `str()`. What happens?<br>\n",
    "\n",
    "Search the internet to find a way to convert a list of characters back into a single string."
   ]
  },
  {
   "cell_type": "code",
   "execution_count": 20,
   "metadata": {},
   "outputs": [
    {
     "data": {
      "text/plain": [
       "'atring'"
      ]
     },
     "execution_count": 20,
     "metadata": {},
     "output_type": "execute_result"
    }
   ],
   "source": [
    "# Answer (can encompass many cells)\n",
    "string = \"string\"\n",
    "myList = list(string)\n",
    "myList[0] = \"a\"\n",
    "string = ''.join(myList)\n",
    "string"
   ]
  },
  {
   "cell_type": "markdown",
   "metadata": {},
   "source": [
    "### Exercise (recommended):\n",
    "<b style=\"color:red\">Done!</b>\n",
    "\n",
    "You can use slicing to make a modification of a string, see example below.\n",
    "Can you use slicing to\n",
    "\n",
    "- change the 5th letter of the string\n",
    "- change the 4th and 5th\n",
    "- change the 4th and 7th\n",
    "- spell the string backwards?"
   ]
  },
  {
   "cell_type": "code",
   "execution_count": 21,
   "metadata": {},
   "outputs": [
    {
     "name": "stdout",
     "output_type": "stream",
     "text": [
      "porcUpine\n",
      "porCUpine\n",
      "porCupIne\n",
      "enipucrop\n"
     ]
    }
   ],
   "source": [
    "word = \"porcupine\"\n",
    "print(word[:4]+'U'+word[5:])\n",
    "print(word[:3]+'CU'+word[5:])\n",
    "print(word[:3]+'C'+word[4:6]+'I'+word[7:])\n",
    "print(word[::-1])\n",
    "#new_word = 'W' + word[1:]\n",
    "#new_word\n",
    "\n",
    "# Answer (can encompass many cells)"
   ]
  },
  {
   "cell_type": "markdown",
   "metadata": {},
   "source": [
    "### Boolean variables\n",
    "\n",
    "Apart from `float`s, `int`egers and `str`ings, there are other variable types. One of them are `bool`ean (logical) variables. These can only get two values `True` and `False`. They can be result of a comparison using comparison operators (`<`, `>`, `<=`, `>=`, `==`). E.g. `3 < 4` will result to `True`. \n",
    "\n",
    "### Exercise (required):\n",
    "<b style=\"color:red\">Done!</b>\n",
    "\n",
    "By trying all of the above logical operators, can you infer what do they mean?\n",
    "\n",
    "Especially, can you infer the difference between operators \"`==`\"  and \"`=`\"?"
   ]
  },
  {
   "cell_type": "code",
   "execution_count": 22,
   "metadata": {},
   "outputs": [
    {
     "name": "stdout",
     "output_type": "stream",
     "text": [
      "a 6 b 6\n"
     ]
    }
   ],
   "source": [
    "# Answer (can encompass many cells)\n",
    "a,b = 6,6 # operator '=' assign to variable and '==' compare two values if they are the same\n",
    "if a>b:\n",
    "    print(\"a\",a)\n",
    "    print(\"b\",b)\n",
    "elif b>a:\n",
    "    print(\"b\",b)\n",
    "    print(\"a\",a)\n",
    "else:\n",
    "    print(\"a\",a,\"b\",b)"
   ]
  },
  {
   "cell_type": "markdown",
   "metadata": {
    "slideshow": {
     "slide_type": "fragment"
    }
   },
   "source": [
    "### Exercise (recommended):\n",
    "<b style=\"color:red\">Done!</b>\n",
    "\n",
    "Can you transform a boolean variable into integer? And float?"
   ]
  },
  {
   "cell_type": "code",
   "execution_count": 23,
   "metadata": {},
   "outputs": [
    {
     "name": "stdout",
     "output_type": "stream",
     "text": [
      "1 0.0\n"
     ]
    }
   ],
   "source": [
    "# Answer (can encompass many cells)\n",
    "print(int(True), float(False)) # Yes"
   ]
  },
  {
   "cell_type": "markdown",
   "metadata": {
    "slideshow": {
     "slide_type": "fragment"
    }
   },
   "source": [
    "### Exercise (optional):\n",
    "<b style=\"color:red\">Done!</b>\n",
    "\n",
    "Check the performance of basic arithmetic operators (addition, subtraction, multiplication, division and exponentiation) on boolean and integer or float values. For example, by checking if it is even possible for python to understand what is `3-True`, or `False**(3.3)`. Can you infer a general rule for these cases?"
   ]
  },
  {
   "cell_type": "code",
   "execution_count": 24,
   "metadata": {},
   "outputs": [
    {
     "name": "stdout",
     "output_type": "stream",
     "text": [
      "1 0 0 1 2 1\n"
     ]
    }
   ],
   "source": [
    "# Answer (can encompass many cells)\n",
    "print(True**(2),True-1,False**(2),False+1,True+True,False**(0)) # integer output"
   ]
  },
  {
   "cell_type": "markdown",
   "metadata": {},
   "source": [
    "### Exercise (recommended):\n",
    "<b style=\"color:red\">Done!</b>\n",
    "\n",
    "Let's define a logical variable with a value of `True`:\n",
    "```python\n",
    "myLogVar = True\n",
    "```\n",
    "\n",
    "Check its type. Find out negation operator that will change `True` to `False` and vice versa."
   ]
  },
  {
   "cell_type": "code",
   "execution_count": 25,
   "metadata": {},
   "outputs": [
    {
     "name": "stdout",
     "output_type": "stream",
     "text": [
      "<class 'bool'>\n",
      "False\n"
     ]
    }
   ],
   "source": [
    "# Answer (can encompass many cells)\n",
    "logVar = True\n",
    "print(type(logVar)) # type\n",
    "print(not logVar) # negation"
   ]
  },
  {
   "cell_type": "markdown",
   "metadata": {
    "slideshow": {
     "slide_type": "fragment"
    }
   },
   "source": [
    "### Exercise (recommended):\n",
    "<b style=\"color:red\">Done!</b>\n",
    "\n",
    "- Define a list of 10 elements that contains at least one element of each type (string, integer, float, boolean).\n",
    "- Access first element of the list.\n",
    "- Access last element of the list.\n",
    "- Access second to last element of the list.\n",
    "- Use slicing notation to access first five elements.\n",
    "- Use slicing notation to access all elements until the second to last (_not including_ the second to last).\n",
    "- Use slicing notation to access all elements starting from the third until the second to last (_including_ the second to last).\n",
    "- Use slicing notation to access _every second_ elements starting from the third until the second to last (_including_ the second to last).\n",
    "- Use slicing notation to access _every second_ elements starting from the second."
   ]
  },
  {
   "cell_type": "code",
   "execution_count": 26,
   "metadata": {},
   "outputs": [
    {
     "name": "stdout",
     "output_type": "stream",
     "text": [
      "1\n",
      "0.0\n",
      "[5.0, 'Yes', True, 'No', 0, 10.0, False, 5]\n",
      "[1, 5.0, 'Yes', True, 'No']\n",
      "['Yes', True, 'No', 0, 10.0, False]\n",
      "['Yes', True, 'No', 0, 10.0, False, 5]\n",
      "['Yes', 'No', 10.0, 5]\n",
      "[5.0, True, 0, False, 0.0]\n"
     ]
    }
   ],
   "source": [
    "# Answer (can encompass many cells)\n",
    "myList = [1, 5.0, \"Yes\", True, 'No', 0, 10.0, False, 5, 0.0]\n",
    "print(myList[0])\n",
    "print(myList[-1])\n",
    "print(myList[1:-1])\n",
    "print(myList[:5])\n",
    "print(myList[2:-2])\n",
    "print(myList[2:-1])\n",
    "print(myList[2:-1:2])\n",
    "print(myList[1::2])"
   ]
  },
  {
   "cell_type": "markdown",
   "metadata": {
    "slideshow": {
     "slide_type": "fragment"
    }
   },
   "source": [
    "### Exercise (recommended):\n",
    "<b style=\"color:red\">Done!</b>\n",
    "\n",
    "Define an empty list `[]`. Check its type to make sure it is a list. Check its length.\n",
    "\n",
    "- Extend the list by a single string element.\n",
    "- Try using the \"`+=`\" notation like in one of the previous exercises.\n",
    "- Extend the list by an empty list.\n",
    "- Extend the list by a list of two elements.\n",
    "- Finally, extend the list by a list of two elements, so that the last element of the main list is a list itself."
   ]
  },
  {
   "cell_type": "code",
   "execution_count": 27,
   "metadata": {},
   "outputs": [
    {
     "name": "stdout",
     "output_type": "stream",
     "text": [
      "<class 'list'>\n",
      "['a', 's', 'd', 'f']\n",
      "['a', 's', 'd', 'f', 'q', 'w', 'e', 'r']\n",
      "['a', 's', 'd', 'f', 'q', 'w', 'e', 'r']\n",
      "['a', 's', 'd', 'f', 'q', 'w', 'e', 'r', 1, 2]\n"
     ]
    }
   ],
   "source": [
    "# Answer (can encompass many cells)\n",
    "myList = []\n",
    "print(type(myList))\n",
    "myList = myList + list(\"asdf\")\n",
    "print(myList)\n",
    "myList += \"qwer\"\n",
    "print(myList)\n",
    "myList += []\n",
    "print(myList)\n",
    "myList += [1, 2] # nepochopil jsem zadani\n",
    "print(myList)\n",
    "# nepochopil jsem zadani"
   ]
  },
  {
   "cell_type": "markdown",
   "metadata": {
    "slideshow": {
     "slide_type": "fragment"
    }
   },
   "source": [
    "### Exercise (optional):\n",
    "<b style=\"color:red\">Done!</b>\n",
    "\n",
    "- Make a list of 3 elements. <br>\n",
    "- Now change the first element to the list itself. <br>\n",
    "\n",
    "Let's check that it really is the first element the list:\n",
    "\n",
    "- print out the list itself\n",
    "- print out the first element of the list\n",
    "- print out the first element of the first element of the list\n",
    "- print out the first element of the first element of the first element of the list"
   ]
  },
  {
   "cell_type": "code",
   "execution_count": 28,
   "metadata": {},
   "outputs": [
    {
     "name": "stdout",
     "output_type": "stream",
     "text": [
      "[[...], 2, 3]\n",
      "[[...], 2, 3]\n",
      "[[...], 2, 3]\n",
      "[[...], 2, 3]\n"
     ]
    }
   ],
   "source": [
    "# Answer (can encompass many cells)\n",
    "myList = [1, 2, 3]\n",
    "myList[0] = myList\n",
    "print(myList)\n",
    "print(myList[0])\n",
    "print(myList[0][0])\n",
    "print(myList[0][0][0])"
   ]
  },
  {
   "cell_type": "markdown",
   "metadata": {
    "slideshow": {
     "slide_type": "fragment"
    }
   },
   "source": [
    "### Exercise (recommended):\n",
    "<b style=\"color:red\">Done!</b>\n",
    "\n",
    "- Define a list of integers going from 0 to 100.\n",
    "- Define a list of integers going from 0 to 100 and _including_ 100.\n",
    "- Define a list of integers going from 21 to 100.\n",
    "- Define a list of integers going from 21 to 100 in steps of 3.<br>_Hint:_ the function `range()` can accept up to three arguments.\n",
    "- Define a list of integers going from 21 to 100 in steps of 3, __but backwards__."
   ]
  },
  {
   "cell_type": "code",
   "execution_count": 29,
   "metadata": {},
   "outputs": [
    {
     "name": "stdout",
     "output_type": "stream",
     "text": [
      "[0, 1, 2, 3, 4, 5, 6, 7, 8, 9, 10, 11, 12, 13, 14, 15, 16, 17, 18, 19, 20, 21, 22, 23, 24, 25, 26, 27, 28, 29, 30, 31, 32, 33, 34, 35, 36, 37, 38, 39, 40, 41, 42, 43, 44, 45, 46, 47, 48, 49, 50, 51, 52, 53, 54, 55, 56, 57, 58, 59, 60, 61, 62, 63, 64, 65, 66, 67, 68, 69, 70, 71, 72, 73, 74, 75, 76, 77, 78, 79, 80, 81, 82, 83, 84, 85, 86, 87, 88, 89, 90, 91, 92, 93, 94, 95, 96, 97, 98, 99]\n",
      "[0, 1, 2, 3, 4, 5, 6, 7, 8, 9, 10, 11, 12, 13, 14, 15, 16, 17, 18, 19, 20, 21, 22, 23, 24, 25, 26, 27, 28, 29, 30, 31, 32, 33, 34, 35, 36, 37, 38, 39, 40, 41, 42, 43, 44, 45, 46, 47, 48, 49, 50, 51, 52, 53, 54, 55, 56, 57, 58, 59, 60, 61, 62, 63, 64, 65, 66, 67, 68, 69, 70, 71, 72, 73, 74, 75, 76, 77, 78, 79, 80, 81, 82, 83, 84, 85, 86, 87, 88, 89, 90, 91, 92, 93, 94, 95, 96, 97, 98, 99, 100]\n",
      "[21, 22, 23, 24, 25, 26, 27, 28, 29, 30, 31, 32, 33, 34, 35, 36, 37, 38, 39, 40, 41, 42, 43, 44, 45, 46, 47, 48, 49, 50, 51, 52, 53, 54, 55, 56, 57, 58, 59, 60, 61, 62, 63, 64, 65, 66, 67, 68, 69, 70, 71, 72, 73, 74, 75, 76, 77, 78, 79, 80, 81, 82, 83, 84, 85, 86, 87, 88, 89, 90, 91, 92, 93, 94, 95, 96, 97, 98, 99]\n",
      "[21, 24, 27, 30, 33, 36, 39, 42, 45, 48, 51, 54, 57, 60, 63, 66, 69, 72, 75, 78, 81, 84, 87, 90, 93, 96, 99]\n",
      "[100, 97, 94, 91, 88, 85, 82, 79, 76, 73, 70, 67, 64, 61, 58, 55, 52, 49, 46, 43, 40, 37, 34, 31, 28, 25, 22]\n"
     ]
    }
   ],
   "source": [
    "# Answer (can encompass many cells)\n",
    "myList = list(range(0, 100))\n",
    "myList1 = list(range(0, 101))\n",
    "myList2 = list(range(21, 100))\n",
    "myList3 = list(range(21, 100, 3))\n",
    "myList4 = list(range(100, 21, -3))\n",
    "print(myList)\n",
    "print(myList1)\n",
    "print(myList2)\n",
    "print(myList3)\n",
    "print(myList4)"
   ]
  },
  {
   "cell_type": "markdown",
   "metadata": {},
   "source": [
    "### Exercise (recommended):\n",
    "<b style=\"color:red\">Done!</b>\n",
    "\n",
    "There are different ways of copying a list, see below.<br>\n",
    "After the given code snippet, write code that:\n",
    "\n",
    "- Prints out each of the copies to check they are really the same\n",
    "- change the first element of `l` (i.e. the number 1)\n",
    "- change the first element of the third element of `l` (i.e. the number 3)\n",
    "\n",
    "Now print out all the copies of the list and check which ones have changed, and how."
   ]
  },
  {
   "cell_type": "code",
   "execution_count": 30,
   "metadata": {},
   "outputs": [
    {
     "name": "stdout",
     "output_type": "stream",
     "text": [
      "[1, 2, [3, 4, 5]]\n",
      "[1, 2, [3, 4, 5]]\n",
      "[1, 2, [3, 4, 5]]\n",
      "[1, 2, [3, 4, 5]]\n",
      "[1, 2, [3, 4, 5]]\n",
      "[1, 2, [3, 4, 5]]\n",
      "\n",
      "[6, 2, [7, 4, 5]]\n",
      "[6, 2, [7, 4, 5]]\n",
      "[1, 2, [7, 4, 5]]\n",
      "[1, 2, [7, 4, 5]]\n",
      "[1, 2, [7, 4, 5]]\n",
      "[1, 2, [3, 4, 5]]\n"
     ]
    }
   ],
   "source": [
    "import copy\n",
    "l = [1,2,[3,4,5]]\n",
    "l2 = l\n",
    "l3 = list(l)\n",
    "l4 = l[:] # slicing notation, without specifying beginning and end\n",
    "l5 = copy.copy(l)\n",
    "l6 = copy.deepcopy(l)\n",
    "\n",
    "print(l)\n",
    "print(l2)\n",
    "print(l3)\n",
    "print(l4)\n",
    "print(l5)\n",
    "print(l6)\n",
    "print()\n",
    "\n",
    "l[0] = 6\n",
    "l[2][0] = 7\n",
    "\n",
    "print(l)\n",
    "print(l2)\n",
    "print(l3)\n",
    "print(l4)\n",
    "print(l5)\n",
    "print(l6)\n",
    "\n",
    "# Answer (can encompass many cells)"
   ]
  },
  {
   "cell_type": "markdown",
   "metadata": {
    "collapsed": true
   },
   "source": [
    "### Exercise (optional)\n",
    "<b style=\"color:red\">Done!</b>\n",
    "\n",
    "Tuples are immutable, but you can cheat.\n",
    "\n",
    "- Make a tuple which contains a list as first element.\n",
    "- Try changing the last element of the tuple (this should give you an error).\n",
    "- Now try to change an element of the list."
   ]
  },
  {
   "cell_type": "code",
   "execution_count": 31,
   "metadata": {},
   "outputs": [
    {
     "name": "stdout",
     "output_type": "stream",
     "text": [
      "([0], 2)\n",
      "([1], 2)\n"
     ]
    }
   ],
   "source": [
    "# Answer (can encompass many cells)\n",
    "t = ([0], 2)\n",
    "print(t)\n",
    "t[0][0] = 1\n",
    "print(t)"
   ]
  }
 ],
 "metadata": {
  "kernelspec": {
   "display_name": "Python 3",
   "language": "python",
   "name": "python3"
  },
  "language_info": {
   "codemirror_mode": {
    "name": "ipython",
    "version": 3
   },
   "file_extension": ".py",
   "mimetype": "text/x-python",
   "name": "python",
   "nbconvert_exporter": "python",
   "pygments_lexer": "ipython3",
   "version": "3.7.1"
  }
 },
 "nbformat": 4,
 "nbformat_minor": 1
}
